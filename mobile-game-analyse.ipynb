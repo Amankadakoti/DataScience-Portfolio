{
 "cells": [
  {
   "cell_type": "markdown",
   "metadata": {},
   "source": [
    "# Lets start"
   ]
  },
  {
   "cell_type": "code",
   "execution_count": 2,
   "metadata": {
    "_cell_guid": "b1076dfc-b9ad-4769-8c92-a6c4dae69d19",
    "_uuid": "8f2839f25d086af736a60e9eeb907d3b93b6e0e5",
    "execution": {
     "iopub.execute_input": "2023-05-21T16:13:45.539918Z",
     "iopub.status.busy": "2023-05-21T16:13:45.538851Z",
     "iopub.status.idle": "2023-05-21T16:13:45.547396Z",
     "shell.execute_reply": "2023-05-21T16:13:45.546042Z",
     "shell.execute_reply.started": "2023-05-21T16:13:45.539870Z"
    }
   },
   "outputs": [],
   "source": [
    "import numpy as np \n",
    "import pandas as pd\n",
    "import matplotlib.pyplot as plt\n",
    "import seaborn as sns"
   ]
  },
  {
   "cell_type": "code",
   "execution_count": 3,
   "metadata": {
    "execution": {
     "iopub.execute_input": "2023-05-21T16:13:45.568244Z",
     "iopub.status.busy": "2023-05-21T16:13:45.567189Z",
     "iopub.status.idle": "2023-05-21T16:13:45.574009Z",
     "shell.execute_reply": "2023-05-21T16:13:45.572632Z",
     "shell.execute_reply.started": "2023-05-21T16:13:45.568190Z"
    }
   },
   "outputs": [],
   "source": [
    "import pandas as pd"
   ]
  },
  {
   "cell_type": "code",
   "execution_count": 4,
   "metadata": {
    "execution": {
     "iopub.execute_input": "2023-05-21T16:13:45.667800Z",
     "iopub.status.busy": "2023-05-21T16:13:45.667244Z",
     "iopub.status.idle": "2023-05-21T16:13:45.673328Z",
     "shell.execute_reply": "2023-05-21T16:13:45.671672Z",
     "shell.execute_reply.started": "2023-05-21T16:13:45.667758Z"
    }
   },
   "outputs": [],
   "source": [
    "#pd.set_option('display.max_rows', None)  # To display all rows and columns"
   ]
  },
  {
   "cell_type": "code",
   "execution_count": 5,
   "metadata": {
    "execution": {
     "iopub.execute_input": "2023-05-21T16:13:45.679849Z",
     "iopub.status.busy": "2023-05-21T16:13:45.679397Z",
     "iopub.status.idle": "2023-05-21T16:13:45.694383Z",
     "shell.execute_reply": "2023-05-21T16:13:45.692773Z",
     "shell.execute_reply.started": "2023-05-21T16:13:45.679812Z"
    }
   },
   "outputs": [],
   "source": [
    "pd.reset_option('display.max_rows') # To reset the option "
   ]
  },
  {
   "cell_type": "code",
   "execution_count": 6,
   "metadata": {
    "execution": {
     "iopub.execute_input": "2023-05-21T16:13:45.698300Z",
     "iopub.status.busy": "2023-05-21T16:13:45.697385Z",
     "iopub.status.idle": "2023-05-21T16:13:45.718540Z",
     "shell.execute_reply": "2023-05-21T16:13:45.716553Z",
     "shell.execute_reply.started": "2023-05-21T16:13:45.698246Z"
    }
   },
   "outputs": [],
   "source": [
    "df=pd.read_csv(\"dataset/mobile-games.csv\")"
   ]
  },
  {
   "cell_type": "code",
   "execution_count": 7,
   "metadata": {
    "execution": {
     "iopub.execute_input": "2023-05-21T16:13:45.721616Z",
     "iopub.status.busy": "2023-05-21T16:13:45.721199Z",
     "iopub.status.idle": "2023-05-21T16:13:45.743375Z",
     "shell.execute_reply": "2023-05-21T16:13:45.742058Z",
     "shell.execute_reply.started": "2023-05-21T16:13:45.721579Z"
    }
   },
   "outputs": [
    {
     "data": {
      "text/html": [
       "<div>\n",
       "<style scoped>\n",
       "    .dataframe tbody tr th:only-of-type {\n",
       "        vertical-align: middle;\n",
       "    }\n",
       "\n",
       "    .dataframe tbody tr th {\n",
       "        vertical-align: top;\n",
       "    }\n",
       "\n",
       "    .dataframe thead th {\n",
       "        text-align: right;\n",
       "    }\n",
       "</style>\n",
       "<table border=\"1\" class=\"dataframe\">\n",
       "  <thead>\n",
       "    <tr style=\"text-align: right;\">\n",
       "      <th></th>\n",
       "      <th>Game</th>\n",
       "      <th>Revenue</th>\n",
       "      <th>Time</th>\n",
       "      <th>Publisher</th>\n",
       "      <th>Genre(s)</th>\n",
       "    </tr>\n",
       "  </thead>\n",
       "  <tbody>\n",
       "    <tr>\n",
       "      <th>0</th>\n",
       "      <td>Honor of Kings / Arena of Valor</td>\n",
       "      <td>14667500000</td>\n",
       "      <td>11/26/2015</td>\n",
       "      <td>Tencent Games</td>\n",
       "      <td>MOBA</td>\n",
       "    </tr>\n",
       "    <tr>\n",
       "      <th>1</th>\n",
       "      <td>Monster Strike</td>\n",
       "      <td>10000000000</td>\n",
       "      <td>8/8/2013</td>\n",
       "      <td>Mixi</td>\n",
       "      <td>Puzzle / RPG / Strategy</td>\n",
       "    </tr>\n",
       "    <tr>\n",
       "      <th>2</th>\n",
       "      <td>PUBG Mobile</td>\n",
       "      <td>9000000000</td>\n",
       "      <td>3/19/2018</td>\n",
       "      <td>Tencent Games / Krafton / VNG Games</td>\n",
       "      <td>Battle royale</td>\n",
       "    </tr>\n",
       "    <tr>\n",
       "      <th>3</th>\n",
       "      <td>Puzzle &amp; Dragons</td>\n",
       "      <td>8578340000</td>\n",
       "      <td>2/20/2012</td>\n",
       "      <td>GungHo Online Entertainment</td>\n",
       "      <td>RPG / Puzzle</td>\n",
       "    </tr>\n",
       "    <tr>\n",
       "      <th>4</th>\n",
       "      <td>Clash of Clans</td>\n",
       "      <td>8000000000</td>\n",
       "      <td>8/2/2012</td>\n",
       "      <td>Supercell (Tencent)</td>\n",
       "      <td>Strategy</td>\n",
       "    </tr>\n",
       "    <tr>\n",
       "      <th>...</th>\n",
       "      <td>...</td>\n",
       "      <td>...</td>\n",
       "      <td>...</td>\n",
       "      <td>...</td>\n",
       "      <td>...</td>\n",
       "    </tr>\n",
       "    <tr>\n",
       "      <th>99</th>\n",
       "      <td>Yahtzee With Buddies</td>\n",
       "      <td>113000000</td>\n",
       "      <td>11/1/2017</td>\n",
       "      <td>Scopely</td>\n",
       "      <td>Yahtzee</td>\n",
       "    </tr>\n",
       "    <tr>\n",
       "      <th>100</th>\n",
       "      <td>Dragon Quest Tact</td>\n",
       "      <td>111990000</td>\n",
       "      <td>7/16/2020</td>\n",
       "      <td>Square Enix</td>\n",
       "      <td>Tactical RPG</td>\n",
       "    </tr>\n",
       "    <tr>\n",
       "      <th>101</th>\n",
       "      <td>Fallout Shelter</td>\n",
       "      <td>100000000</td>\n",
       "      <td>6/14/2015</td>\n",
       "      <td>Bethesda Softworks</td>\n",
       "      <td>Simulation (CMS)</td>\n",
       "    </tr>\n",
       "    <tr>\n",
       "      <th>102</th>\n",
       "      <td>Mafia City</td>\n",
       "      <td>100000000</td>\n",
       "      <td>7/25/2017</td>\n",
       "      <td>Yotta Games</td>\n",
       "      <td>RPG</td>\n",
       "    </tr>\n",
       "    <tr>\n",
       "      <th>103</th>\n",
       "      <td>Madden NFL Overdrive</td>\n",
       "      <td>100000000</td>\n",
       "      <td>8/15/2018</td>\n",
       "      <td>EA Sports (Electronic Arts)</td>\n",
       "      <td>Sports (American football)</td>\n",
       "    </tr>\n",
       "  </tbody>\n",
       "</table>\n",
       "<p>104 rows × 5 columns</p>\n",
       "</div>"
      ],
      "text/plain": [
       "                                Game      Revenue        Time  \\\n",
       "0    Honor of Kings / Arena of Valor  14667500000  11/26/2015   \n",
       "1                     Monster Strike  10000000000    8/8/2013   \n",
       "2                        PUBG Mobile   9000000000   3/19/2018   \n",
       "3                   Puzzle & Dragons   8578340000   2/20/2012   \n",
       "4                     Clash of Clans   8000000000    8/2/2012   \n",
       "..                               ...          ...         ...   \n",
       "99              Yahtzee With Buddies    113000000   11/1/2017   \n",
       "100                Dragon Quest Tact    111990000   7/16/2020   \n",
       "101                  Fallout Shelter    100000000   6/14/2015   \n",
       "102                       Mafia City    100000000   7/25/2017   \n",
       "103             Madden NFL Overdrive    100000000   8/15/2018   \n",
       "\n",
       "                               Publisher                    Genre(s)  \n",
       "0                          Tencent Games                        MOBA  \n",
       "1                                   Mixi     Puzzle / RPG / Strategy  \n",
       "2    Tencent Games / Krafton / VNG Games               Battle royale  \n",
       "3            GungHo Online Entertainment                RPG / Puzzle  \n",
       "4                    Supercell (Tencent)                    Strategy  \n",
       "..                                   ...                         ...  \n",
       "99                               Scopely                     Yahtzee  \n",
       "100                          Square Enix                Tactical RPG  \n",
       "101                   Bethesda Softworks            Simulation (CMS)  \n",
       "102                          Yotta Games                         RPG  \n",
       "103          EA Sports (Electronic Arts)  Sports (American football)  \n",
       "\n",
       "[104 rows x 5 columns]"
      ]
     },
     "execution_count": 7,
     "metadata": {},
     "output_type": "execute_result"
    }
   ],
   "source": [
    "df"
   ]
  },
  {
   "cell_type": "code",
   "execution_count": 8,
   "metadata": {
    "execution": {
     "iopub.execute_input": "2023-05-21T16:13:45.745974Z",
     "iopub.status.busy": "2023-05-21T16:13:45.745464Z",
     "iopub.status.idle": "2023-05-21T16:13:45.755288Z",
     "shell.execute_reply": "2023-05-21T16:13:45.753803Z",
     "shell.execute_reply.started": "2023-05-21T16:13:45.745924Z"
    }
   },
   "outputs": [
    {
     "data": {
      "text/plain": [
       "(104, 5)"
      ]
     },
     "execution_count": 8,
     "metadata": {},
     "output_type": "execute_result"
    }
   ],
   "source": [
    "# first we find the shape of the data We use shape function\n",
    "\n",
    "df.shape\n",
    "\n",
    "# What we finde we have (104, Rows) and (5,columns)"
   ]
  },
  {
   "cell_type": "code",
   "execution_count": 9,
   "metadata": {
    "execution": {
     "iopub.execute_input": "2023-05-21T16:13:45.758044Z",
     "iopub.status.busy": "2023-05-21T16:13:45.757653Z",
     "iopub.status.idle": "2023-05-21T16:13:45.780187Z",
     "shell.execute_reply": "2023-05-21T16:13:45.778726Z",
     "shell.execute_reply.started": "2023-05-21T16:13:45.757992Z"
    }
   },
   "outputs": [
    {
     "data": {
      "text/plain": [
       "Index(['Game', 'Revenue', 'Time', 'Publisher', 'Genre(s)'], dtype='object')"
      ]
     },
     "execution_count": 9,
     "metadata": {},
     "output_type": "execute_result"
    }
   ],
   "source": [
    "df.columns # if we whant to show columns name "
   ]
  },
  {
   "cell_type": "code",
   "execution_count": 10,
   "metadata": {
    "execution": {
     "iopub.execute_input": "2023-05-21T16:13:45.783349Z",
     "iopub.status.busy": "2023-05-21T16:13:45.781866Z",
     "iopub.status.idle": "2023-05-21T16:13:45.802450Z",
     "shell.execute_reply": "2023-05-21T16:13:45.800598Z",
     "shell.execute_reply.started": "2023-05-21T16:13:45.783297Z"
    }
   },
   "outputs": [
    {
     "data": {
      "text/html": [
       "<div>\n",
       "<style scoped>\n",
       "    .dataframe tbody tr th:only-of-type {\n",
       "        vertical-align: middle;\n",
       "    }\n",
       "\n",
       "    .dataframe tbody tr th {\n",
       "        vertical-align: top;\n",
       "    }\n",
       "\n",
       "    .dataframe thead th {\n",
       "        text-align: right;\n",
       "    }\n",
       "</style>\n",
       "<table border=\"1\" class=\"dataframe\">\n",
       "  <thead>\n",
       "    <tr style=\"text-align: right;\">\n",
       "      <th></th>\n",
       "      <th>Game</th>\n",
       "      <th>Revenue</th>\n",
       "      <th>Time</th>\n",
       "      <th>Publisher</th>\n",
       "      <th>Genre(s)</th>\n",
       "    </tr>\n",
       "  </thead>\n",
       "  <tbody>\n",
       "    <tr>\n",
       "      <th>0</th>\n",
       "      <td>Honor of Kings / Arena of Valor</td>\n",
       "      <td>14667500000</td>\n",
       "      <td>11/26/2015</td>\n",
       "      <td>Tencent Games</td>\n",
       "      <td>MOBA</td>\n",
       "    </tr>\n",
       "    <tr>\n",
       "      <th>1</th>\n",
       "      <td>Monster Strike</td>\n",
       "      <td>10000000000</td>\n",
       "      <td>8/8/2013</td>\n",
       "      <td>Mixi</td>\n",
       "      <td>Puzzle / RPG / Strategy</td>\n",
       "    </tr>\n",
       "    <tr>\n",
       "      <th>2</th>\n",
       "      <td>PUBG Mobile</td>\n",
       "      <td>9000000000</td>\n",
       "      <td>3/19/2018</td>\n",
       "      <td>Tencent Games / Krafton / VNG Games</td>\n",
       "      <td>Battle royale</td>\n",
       "    </tr>\n",
       "    <tr>\n",
       "      <th>3</th>\n",
       "      <td>Puzzle &amp; Dragons</td>\n",
       "      <td>8578340000</td>\n",
       "      <td>2/20/2012</td>\n",
       "      <td>GungHo Online Entertainment</td>\n",
       "      <td>RPG / Puzzle</td>\n",
       "    </tr>\n",
       "    <tr>\n",
       "      <th>4</th>\n",
       "      <td>Clash of Clans</td>\n",
       "      <td>8000000000</td>\n",
       "      <td>8/2/2012</td>\n",
       "      <td>Supercell (Tencent)</td>\n",
       "      <td>Strategy</td>\n",
       "    </tr>\n",
       "  </tbody>\n",
       "</table>\n",
       "</div>"
      ],
      "text/plain": [
       "                              Game      Revenue        Time  \\\n",
       "0  Honor of Kings / Arena of Valor  14667500000  11/26/2015   \n",
       "1                   Monster Strike  10000000000    8/8/2013   \n",
       "2                      PUBG Mobile   9000000000   3/19/2018   \n",
       "3                 Puzzle & Dragons   8578340000   2/20/2012   \n",
       "4                   Clash of Clans   8000000000    8/2/2012   \n",
       "\n",
       "                             Publisher                 Genre(s)  \n",
       "0                        Tencent Games                     MOBA  \n",
       "1                                 Mixi  Puzzle / RPG / Strategy  \n",
       "2  Tencent Games / Krafton / VNG Games            Battle royale  \n",
       "3          GungHo Online Entertainment             RPG / Puzzle  \n",
       "4                  Supercell (Tencent)                 Strategy  "
      ]
     },
     "execution_count": 10,
     "metadata": {},
     "output_type": "execute_result"
    }
   ],
   "source": [
    "df.head() # the head function only show the top 5 records "
   ]
  },
  {
   "cell_type": "code",
   "execution_count": 11,
   "metadata": {
    "execution": {
     "iopub.execute_input": "2023-05-21T16:13:45.806375Z",
     "iopub.status.busy": "2023-05-21T16:13:45.805809Z",
     "iopub.status.idle": "2023-05-21T16:13:45.822023Z",
     "shell.execute_reply": "2023-05-21T16:13:45.820334Z",
     "shell.execute_reply.started": "2023-05-21T16:13:45.806319Z"
    }
   },
   "outputs": [
    {
     "data": {
      "text/html": [
       "<div>\n",
       "<style scoped>\n",
       "    .dataframe tbody tr th:only-of-type {\n",
       "        vertical-align: middle;\n",
       "    }\n",
       "\n",
       "    .dataframe tbody tr th {\n",
       "        vertical-align: top;\n",
       "    }\n",
       "\n",
       "    .dataframe thead th {\n",
       "        text-align: right;\n",
       "    }\n",
       "</style>\n",
       "<table border=\"1\" class=\"dataframe\">\n",
       "  <thead>\n",
       "    <tr style=\"text-align: right;\">\n",
       "      <th></th>\n",
       "      <th>Game</th>\n",
       "      <th>Revenue</th>\n",
       "      <th>Time</th>\n",
       "      <th>Publisher</th>\n",
       "      <th>Genre(s)</th>\n",
       "    </tr>\n",
       "  </thead>\n",
       "  <tbody>\n",
       "    <tr>\n",
       "      <th>99</th>\n",
       "      <td>Yahtzee With Buddies</td>\n",
       "      <td>113000000</td>\n",
       "      <td>11/1/2017</td>\n",
       "      <td>Scopely</td>\n",
       "      <td>Yahtzee</td>\n",
       "    </tr>\n",
       "    <tr>\n",
       "      <th>100</th>\n",
       "      <td>Dragon Quest Tact</td>\n",
       "      <td>111990000</td>\n",
       "      <td>7/16/2020</td>\n",
       "      <td>Square Enix</td>\n",
       "      <td>Tactical RPG</td>\n",
       "    </tr>\n",
       "    <tr>\n",
       "      <th>101</th>\n",
       "      <td>Fallout Shelter</td>\n",
       "      <td>100000000</td>\n",
       "      <td>6/14/2015</td>\n",
       "      <td>Bethesda Softworks</td>\n",
       "      <td>Simulation (CMS)</td>\n",
       "    </tr>\n",
       "    <tr>\n",
       "      <th>102</th>\n",
       "      <td>Mafia City</td>\n",
       "      <td>100000000</td>\n",
       "      <td>7/25/2017</td>\n",
       "      <td>Yotta Games</td>\n",
       "      <td>RPG</td>\n",
       "    </tr>\n",
       "    <tr>\n",
       "      <th>103</th>\n",
       "      <td>Madden NFL Overdrive</td>\n",
       "      <td>100000000</td>\n",
       "      <td>8/15/2018</td>\n",
       "      <td>EA Sports (Electronic Arts)</td>\n",
       "      <td>Sports (American football)</td>\n",
       "    </tr>\n",
       "  </tbody>\n",
       "</table>\n",
       "</div>"
      ],
      "text/plain": [
       "                     Game    Revenue       Time                    Publisher  \\\n",
       "99   Yahtzee With Buddies  113000000  11/1/2017                      Scopely   \n",
       "100     Dragon Quest Tact  111990000  7/16/2020                  Square Enix   \n",
       "101       Fallout Shelter  100000000  6/14/2015           Bethesda Softworks   \n",
       "102            Mafia City  100000000  7/25/2017                  Yotta Games   \n",
       "103  Madden NFL Overdrive  100000000  8/15/2018  EA Sports (Electronic Arts)   \n",
       "\n",
       "                       Genre(s)  \n",
       "99                      Yahtzee  \n",
       "100                Tactical RPG  \n",
       "101            Simulation (CMS)  \n",
       "102                         RPG  \n",
       "103  Sports (American football)  "
      ]
     },
     "execution_count": 11,
     "metadata": {},
     "output_type": "execute_result"
    }
   ],
   "source": [
    "df.tail() # and it shows top 5 records by the bootam"
   ]
  },
  {
   "cell_type": "code",
   "execution_count": 12,
   "metadata": {
    "execution": {
     "iopub.execute_input": "2023-05-21T16:13:45.825621Z",
     "iopub.status.busy": "2023-05-21T16:13:45.824912Z",
     "iopub.status.idle": "2023-05-21T16:13:45.845088Z",
     "shell.execute_reply": "2023-05-21T16:13:45.843600Z",
     "shell.execute_reply.started": "2023-05-21T16:13:45.825553Z"
    }
   },
   "outputs": [
    {
     "data": {
      "text/html": [
       "<div>\n",
       "<style scoped>\n",
       "    .dataframe tbody tr th:only-of-type {\n",
       "        vertical-align: middle;\n",
       "    }\n",
       "\n",
       "    .dataframe tbody tr th {\n",
       "        vertical-align: top;\n",
       "    }\n",
       "\n",
       "    .dataframe thead th {\n",
       "        text-align: right;\n",
       "    }\n",
       "</style>\n",
       "<table border=\"1\" class=\"dataframe\">\n",
       "  <thead>\n",
       "    <tr style=\"text-align: right;\">\n",
       "      <th></th>\n",
       "      <th>Game</th>\n",
       "      <th>Revenue</th>\n",
       "      <th>Time</th>\n",
       "      <th>Publisher</th>\n",
       "      <th>Genre(s)</th>\n",
       "    </tr>\n",
       "  </thead>\n",
       "  <tbody>\n",
       "    <tr>\n",
       "      <th>66</th>\n",
       "      <td>Harry Potter: Hogwarts Mystery</td>\n",
       "      <td>401000000</td>\n",
       "      <td>4/25/2018</td>\n",
       "      <td>Jam City (Netmarble)</td>\n",
       "      <td>RPG</td>\n",
       "    </tr>\n",
       "    <tr>\n",
       "      <th>61</th>\n",
       "      <td>League of Legends: Wild Rift</td>\n",
       "      <td>505000000</td>\n",
       "      <td>10/27/2020</td>\n",
       "      <td>Riot Games (Tencent)</td>\n",
       "      <td>MOBA</td>\n",
       "    </tr>\n",
       "    <tr>\n",
       "      <th>56</th>\n",
       "      <td>Hearthstone</td>\n",
       "      <td>660000000</td>\n",
       "      <td>4/16/2014</td>\n",
       "      <td>Blizzard (Activision Blizzard)</td>\n",
       "      <td>DCCG</td>\n",
       "    </tr>\n",
       "    <tr>\n",
       "      <th>52</th>\n",
       "      <td>Honkai Impact 3rd</td>\n",
       "      <td>731000000</td>\n",
       "      <td>10/14/2016</td>\n",
       "      <td>miHoYo</td>\n",
       "      <td>ARPG / Hack &amp; slash</td>\n",
       "    </tr>\n",
       "    <tr>\n",
       "      <th>3</th>\n",
       "      <td>Puzzle &amp; Dragons</td>\n",
       "      <td>8578340000</td>\n",
       "      <td>2/20/2012</td>\n",
       "      <td>GungHo Online Entertainment</td>\n",
       "      <td>RPG / Puzzle</td>\n",
       "    </tr>\n",
       "  </tbody>\n",
       "</table>\n",
       "</div>"
      ],
      "text/plain": [
       "                              Game     Revenue        Time  \\\n",
       "66  Harry Potter: Hogwarts Mystery   401000000   4/25/2018   \n",
       "61    League of Legends: Wild Rift   505000000  10/27/2020   \n",
       "56                     Hearthstone   660000000   4/16/2014   \n",
       "52               Honkai Impact 3rd   731000000  10/14/2016   \n",
       "3                 Puzzle & Dragons  8578340000   2/20/2012   \n",
       "\n",
       "                         Publisher             Genre(s)  \n",
       "66            Jam City (Netmarble)                  RPG  \n",
       "61            Riot Games (Tencent)                 MOBA  \n",
       "56  Blizzard (Activision Blizzard)                 DCCG  \n",
       "52                          miHoYo  ARPG / Hack & slash  \n",
       "3      GungHo Online Entertainment         RPG / Puzzle  "
      ]
     },
     "execution_count": 12,
     "metadata": {},
     "output_type": "execute_result"
    }
   ],
   "source": [
    "df.sample(5) # and the sample function shows Random rocords "
   ]
  },
  {
   "cell_type": "code",
   "execution_count": 13,
   "metadata": {
    "execution": {
     "iopub.execute_input": "2023-05-21T16:13:45.937401Z",
     "iopub.status.busy": "2023-05-21T16:13:45.936956Z",
     "iopub.status.idle": "2023-05-21T16:13:45.947107Z",
     "shell.execute_reply": "2023-05-21T16:13:45.945622Z",
     "shell.execute_reply.started": "2023-05-21T16:13:45.937362Z"
    }
   },
   "outputs": [
    {
     "data": {
      "text/plain": [
       "Game         object\n",
       "Revenue       int64\n",
       "Time         object\n",
       "Publisher    object\n",
       "Genre(s)     object\n",
       "dtype: object"
      ]
     },
     "execution_count": 13,
     "metadata": {},
     "output_type": "execute_result"
    }
   ],
   "source": [
    "# lets find out the every columns datatype\n",
    "df.dtypes"
   ]
  },
  {
   "cell_type": "code",
   "execution_count": 14,
   "metadata": {
    "execution": {
     "iopub.execute_input": "2023-05-21T16:13:46.057973Z",
     "iopub.status.busy": "2023-05-21T16:13:46.057520Z",
     "iopub.status.idle": "2023-05-21T16:13:46.068080Z",
     "shell.execute_reply": "2023-05-21T16:13:46.066767Z",
     "shell.execute_reply.started": "2023-05-21T16:13:46.057930Z"
    }
   },
   "outputs": [
    {
     "data": {
      "text/plain": [
       "Game          True\n",
       "Revenue      False\n",
       "Time          True\n",
       "Publisher     True\n",
       "Genre(s)      True\n",
       "dtype: bool"
      ]
     },
     "execution_count": 14,
     "metadata": {},
     "output_type": "execute_result"
    }
   ],
   "source": [
    "df.dtypes == 'object' # it shows only which datatype is object"
   ]
  },
  {
   "cell_type": "code",
   "execution_count": 15,
   "metadata": {
    "execution": {
     "iopub.execute_input": "2023-05-21T16:13:46.376886Z",
     "iopub.status.busy": "2023-05-21T16:13:46.376471Z",
     "iopub.status.idle": "2023-05-21T16:13:46.387049Z",
     "shell.execute_reply": "2023-05-21T16:13:46.385583Z",
     "shell.execute_reply.started": "2023-05-21T16:13:46.376851Z"
    }
   },
   "outputs": [
    {
     "data": {
      "text/plain": [
       "Game         object\n",
       "Time         object\n",
       "Publisher    object\n",
       "Genre(s)     object\n",
       "dtype: object"
      ]
     },
     "execution_count": 15,
     "metadata": {},
     "output_type": "execute_result"
    }
   ],
   "source": [
    "df.dtypes[df.dtypes=='object']"
   ]
  },
  {
   "cell_type": "code",
   "execution_count": 16,
   "metadata": {
    "execution": {
     "iopub.execute_input": "2023-05-21T16:13:46.394196Z",
     "iopub.status.busy": "2023-05-21T16:13:46.393678Z",
     "iopub.status.idle": "2023-05-21T16:13:46.404113Z",
     "shell.execute_reply": "2023-05-21T16:13:46.402835Z",
     "shell.execute_reply.started": "2023-05-21T16:13:46.394146Z"
    }
   },
   "outputs": [
    {
     "data": {
      "text/plain": [
       "pandas.core.series.Series"
      ]
     },
     "execution_count": 16,
     "metadata": {},
     "output_type": "execute_result"
    }
   ],
   "source": [
    "type(df['Game']) # if we want to find the type of columns"
   ]
  },
  {
   "cell_type": "code",
   "execution_count": 17,
   "metadata": {
    "execution": {
     "iopub.execute_input": "2023-05-21T16:13:46.407270Z",
     "iopub.status.busy": "2023-05-21T16:13:46.406652Z",
     "iopub.status.idle": "2023-05-21T16:13:46.424373Z",
     "shell.execute_reply": "2023-05-21T16:13:46.422827Z",
     "shell.execute_reply.started": "2023-05-21T16:13:46.407206Z"
    }
   },
   "outputs": [
    {
     "data": {
      "text/plain": [
       "Game         0\n",
       "Revenue      0\n",
       "Time         0\n",
       "Publisher    0\n",
       "Genre(s)     0\n",
       "dtype: int64"
      ]
     },
     "execution_count": 17,
     "metadata": {},
     "output_type": "execute_result"
    }
   ],
   "source": [
    "# lest cheke the null value in  the data \n",
    "df.isnull().sum() # we finde the no null value the data"
   ]
  },
  {
   "cell_type": "code",
   "execution_count": 18,
   "metadata": {},
   "outputs": [
    {
     "data": {
      "text/plain": [
       "0      11/26/2015\n",
       "1        8/8/2013\n",
       "2       3/19/2018\n",
       "3       2/20/2012\n",
       "4        8/2/2012\n",
       "          ...    \n",
       "99      11/1/2017\n",
       "100     7/16/2020\n",
       "101     6/14/2015\n",
       "102     7/25/2017\n",
       "103     8/15/2018\n",
       "Name: Time, Length: 104, dtype: object"
      ]
     },
     "execution_count": 18,
     "metadata": {},
     "output_type": "execute_result"
    }
   ],
   "source": [
    "# lest convert Time into \n",
    "df['Time'].replace('/', '-')"
   ]
  },
  {
   "cell_type": "code",
   "execution_count": 19,
   "metadata": {},
   "outputs": [
    {
     "data": {
      "text/html": [
       "<div>\n",
       "<style scoped>\n",
       "    .dataframe tbody tr th:only-of-type {\n",
       "        vertical-align: middle;\n",
       "    }\n",
       "\n",
       "    .dataframe tbody tr th {\n",
       "        vertical-align: top;\n",
       "    }\n",
       "\n",
       "    .dataframe thead th {\n",
       "        text-align: right;\n",
       "    }\n",
       "</style>\n",
       "<table border=\"1\" class=\"dataframe\">\n",
       "  <thead>\n",
       "    <tr style=\"text-align: right;\">\n",
       "      <th></th>\n",
       "      <th>Game</th>\n",
       "      <th>Revenue</th>\n",
       "      <th>Time</th>\n",
       "      <th>Publisher</th>\n",
       "      <th>Genre(s)</th>\n",
       "    </tr>\n",
       "  </thead>\n",
       "  <tbody>\n",
       "    <tr>\n",
       "      <th>0</th>\n",
       "      <td>Honor of Kings / Arena of Valor</td>\n",
       "      <td>14667500000</td>\n",
       "      <td>11/26/2015</td>\n",
       "      <td>Tencent Games</td>\n",
       "      <td>MOBA</td>\n",
       "    </tr>\n",
       "    <tr>\n",
       "      <th>1</th>\n",
       "      <td>Monster Strike</td>\n",
       "      <td>10000000000</td>\n",
       "      <td>8/8/2013</td>\n",
       "      <td>Mixi</td>\n",
       "      <td>Puzzle / RPG / Strategy</td>\n",
       "    </tr>\n",
       "    <tr>\n",
       "      <th>2</th>\n",
       "      <td>PUBG Mobile</td>\n",
       "      <td>9000000000</td>\n",
       "      <td>3/19/2018</td>\n",
       "      <td>Tencent Games / Krafton / VNG Games</td>\n",
       "      <td>Battle royale</td>\n",
       "    </tr>\n",
       "    <tr>\n",
       "      <th>3</th>\n",
       "      <td>Puzzle &amp; Dragons</td>\n",
       "      <td>8578340000</td>\n",
       "      <td>2/20/2012</td>\n",
       "      <td>GungHo Online Entertainment</td>\n",
       "      <td>RPG / Puzzle</td>\n",
       "    </tr>\n",
       "    <tr>\n",
       "      <th>4</th>\n",
       "      <td>Clash of Clans</td>\n",
       "      <td>8000000000</td>\n",
       "      <td>8/2/2012</td>\n",
       "      <td>Supercell (Tencent)</td>\n",
       "      <td>Strategy</td>\n",
       "    </tr>\n",
       "    <tr>\n",
       "      <th>...</th>\n",
       "      <td>...</td>\n",
       "      <td>...</td>\n",
       "      <td>...</td>\n",
       "      <td>...</td>\n",
       "      <td>...</td>\n",
       "    </tr>\n",
       "    <tr>\n",
       "      <th>99</th>\n",
       "      <td>Yahtzee With Buddies</td>\n",
       "      <td>113000000</td>\n",
       "      <td>11/1/2017</td>\n",
       "      <td>Scopely</td>\n",
       "      <td>Yahtzee</td>\n",
       "    </tr>\n",
       "    <tr>\n",
       "      <th>100</th>\n",
       "      <td>Dragon Quest Tact</td>\n",
       "      <td>111990000</td>\n",
       "      <td>7/16/2020</td>\n",
       "      <td>Square Enix</td>\n",
       "      <td>Tactical RPG</td>\n",
       "    </tr>\n",
       "    <tr>\n",
       "      <th>101</th>\n",
       "      <td>Fallout Shelter</td>\n",
       "      <td>100000000</td>\n",
       "      <td>6/14/2015</td>\n",
       "      <td>Bethesda Softworks</td>\n",
       "      <td>Simulation (CMS)</td>\n",
       "    </tr>\n",
       "    <tr>\n",
       "      <th>102</th>\n",
       "      <td>Mafia City</td>\n",
       "      <td>100000000</td>\n",
       "      <td>7/25/2017</td>\n",
       "      <td>Yotta Games</td>\n",
       "      <td>RPG</td>\n",
       "    </tr>\n",
       "    <tr>\n",
       "      <th>103</th>\n",
       "      <td>Madden NFL Overdrive</td>\n",
       "      <td>100000000</td>\n",
       "      <td>8/15/2018</td>\n",
       "      <td>EA Sports (Electronic Arts)</td>\n",
       "      <td>Sports (American football)</td>\n",
       "    </tr>\n",
       "  </tbody>\n",
       "</table>\n",
       "<p>104 rows × 5 columns</p>\n",
       "</div>"
      ],
      "text/plain": [
       "                                Game      Revenue        Time  \\\n",
       "0    Honor of Kings / Arena of Valor  14667500000  11/26/2015   \n",
       "1                     Monster Strike  10000000000    8/8/2013   \n",
       "2                        PUBG Mobile   9000000000   3/19/2018   \n",
       "3                   Puzzle & Dragons   8578340000   2/20/2012   \n",
       "4                     Clash of Clans   8000000000    8/2/2012   \n",
       "..                               ...          ...         ...   \n",
       "99              Yahtzee With Buddies    113000000   11/1/2017   \n",
       "100                Dragon Quest Tact    111990000   7/16/2020   \n",
       "101                  Fallout Shelter    100000000   6/14/2015   \n",
       "102                       Mafia City    100000000   7/25/2017   \n",
       "103             Madden NFL Overdrive    100000000   8/15/2018   \n",
       "\n",
       "                               Publisher                    Genre(s)  \n",
       "0                          Tencent Games                        MOBA  \n",
       "1                                   Mixi     Puzzle / RPG / Strategy  \n",
       "2    Tencent Games / Krafton / VNG Games               Battle royale  \n",
       "3            GungHo Online Entertainment                RPG / Puzzle  \n",
       "4                    Supercell (Tencent)                    Strategy  \n",
       "..                                   ...                         ...  \n",
       "99                               Scopely                     Yahtzee  \n",
       "100                          Square Enix                Tactical RPG  \n",
       "101                   Bethesda Softworks            Simulation (CMS)  \n",
       "102                          Yotta Games                         RPG  \n",
       "103          EA Sports (Electronic Arts)  Sports (American football)  \n",
       "\n",
       "[104 rows x 5 columns]"
      ]
     },
     "execution_count": 19,
     "metadata": {},
     "output_type": "execute_result"
    }
   ],
   "source": [
    "df"
   ]
  },
  {
   "cell_type": "code",
   "execution_count": 20,
   "metadata": {
    "execution": {
     "iopub.execute_input": "2023-05-21T16:13:46.428925Z",
     "iopub.status.busy": "2023-05-21T16:13:46.428506Z",
     "iopub.status.idle": "2023-05-21T16:13:46.443021Z",
     "shell.execute_reply": "2023-05-21T16:13:46.441807Z",
     "shell.execute_reply.started": "2023-05-21T16:13:46.428890Z"
    }
   },
   "outputs": [
    {
     "data": {
      "text/html": [
       "<div>\n",
       "<style scoped>\n",
       "    .dataframe tbody tr th:only-of-type {\n",
       "        vertical-align: middle;\n",
       "    }\n",
       "\n",
       "    .dataframe tbody tr th {\n",
       "        vertical-align: top;\n",
       "    }\n",
       "\n",
       "    .dataframe thead th {\n",
       "        text-align: right;\n",
       "    }\n",
       "</style>\n",
       "<table border=\"1\" class=\"dataframe\">\n",
       "  <thead>\n",
       "    <tr style=\"text-align: right;\">\n",
       "      <th></th>\n",
       "      <th>Game</th>\n",
       "    </tr>\n",
       "  </thead>\n",
       "  <tbody>\n",
       "    <tr>\n",
       "      <th>0</th>\n",
       "      <td>Honor of Kings / Arena of Valor</td>\n",
       "    </tr>\n",
       "    <tr>\n",
       "      <th>1</th>\n",
       "      <td>Monster Strike</td>\n",
       "    </tr>\n",
       "    <tr>\n",
       "      <th>2</th>\n",
       "      <td>PUBG Mobile</td>\n",
       "    </tr>\n",
       "    <tr>\n",
       "      <th>3</th>\n",
       "      <td>Puzzle &amp; Dragons</td>\n",
       "    </tr>\n",
       "    <tr>\n",
       "      <th>4</th>\n",
       "      <td>Clash of Clans</td>\n",
       "    </tr>\n",
       "    <tr>\n",
       "      <th>...</th>\n",
       "      <td>...</td>\n",
       "    </tr>\n",
       "    <tr>\n",
       "      <th>99</th>\n",
       "      <td>Yahtzee With Buddies</td>\n",
       "    </tr>\n",
       "    <tr>\n",
       "      <th>100</th>\n",
       "      <td>Dragon Quest Tact</td>\n",
       "    </tr>\n",
       "    <tr>\n",
       "      <th>101</th>\n",
       "      <td>Fallout Shelter</td>\n",
       "    </tr>\n",
       "    <tr>\n",
       "      <th>102</th>\n",
       "      <td>Mafia City</td>\n",
       "    </tr>\n",
       "    <tr>\n",
       "      <th>103</th>\n",
       "      <td>Madden NFL Overdrive</td>\n",
       "    </tr>\n",
       "  </tbody>\n",
       "</table>\n",
       "<p>104 rows × 1 columns</p>\n",
       "</div>"
      ],
      "text/plain": [
       "                                Game\n",
       "0    Honor of Kings / Arena of Valor\n",
       "1                     Monster Strike\n",
       "2                        PUBG Mobile\n",
       "3                   Puzzle & Dragons\n",
       "4                     Clash of Clans\n",
       "..                               ...\n",
       "99              Yahtzee With Buddies\n",
       "100                Dragon Quest Tact\n",
       "101                  Fallout Shelter\n",
       "102                       Mafia City\n",
       "103             Madden NFL Overdrive\n",
       "\n",
       "[104 rows x 1 columns]"
      ]
     },
     "execution_count": 20,
     "metadata": {},
     "output_type": "execute_result"
    }
   ],
   "source": [
    "df[['Game']] # if we want to see only one columns"
   ]
  },
  {
   "cell_type": "code",
   "execution_count": 21,
   "metadata": {
    "execution": {
     "iopub.execute_input": "2023-05-21T16:13:46.445130Z",
     "iopub.status.busy": "2023-05-21T16:13:46.444734Z",
     "iopub.status.idle": "2023-05-21T16:13:46.474627Z",
     "shell.execute_reply": "2023-05-21T16:13:46.472989Z",
     "shell.execute_reply.started": "2023-05-21T16:13:46.445096Z"
    }
   },
   "outputs": [
    {
     "data": {
      "text/html": [
       "<div>\n",
       "<style scoped>\n",
       "    .dataframe tbody tr th:only-of-type {\n",
       "        vertical-align: middle;\n",
       "    }\n",
       "\n",
       "    .dataframe tbody tr th {\n",
       "        vertical-align: top;\n",
       "    }\n",
       "\n",
       "    .dataframe thead th {\n",
       "        text-align: right;\n",
       "    }\n",
       "</style>\n",
       "<table border=\"1\" class=\"dataframe\">\n",
       "  <thead>\n",
       "    <tr style=\"text-align: right;\">\n",
       "      <th></th>\n",
       "      <th>Game</th>\n",
       "      <th>Publisher</th>\n",
       "    </tr>\n",
       "  </thead>\n",
       "  <tbody>\n",
       "    <tr>\n",
       "      <th>0</th>\n",
       "      <td>Honor of Kings / Arena of Valor</td>\n",
       "      <td>Tencent Games</td>\n",
       "    </tr>\n",
       "    <tr>\n",
       "      <th>1</th>\n",
       "      <td>Monster Strike</td>\n",
       "      <td>Mixi</td>\n",
       "    </tr>\n",
       "    <tr>\n",
       "      <th>2</th>\n",
       "      <td>PUBG Mobile</td>\n",
       "      <td>Tencent Games / Krafton / VNG Games</td>\n",
       "    </tr>\n",
       "    <tr>\n",
       "      <th>3</th>\n",
       "      <td>Puzzle &amp; Dragons</td>\n",
       "      <td>GungHo Online Entertainment</td>\n",
       "    </tr>\n",
       "    <tr>\n",
       "      <th>4</th>\n",
       "      <td>Clash of Clans</td>\n",
       "      <td>Supercell (Tencent)</td>\n",
       "    </tr>\n",
       "    <tr>\n",
       "      <th>...</th>\n",
       "      <td>...</td>\n",
       "      <td>...</td>\n",
       "    </tr>\n",
       "    <tr>\n",
       "      <th>99</th>\n",
       "      <td>Yahtzee With Buddies</td>\n",
       "      <td>Scopely</td>\n",
       "    </tr>\n",
       "    <tr>\n",
       "      <th>100</th>\n",
       "      <td>Dragon Quest Tact</td>\n",
       "      <td>Square Enix</td>\n",
       "    </tr>\n",
       "    <tr>\n",
       "      <th>101</th>\n",
       "      <td>Fallout Shelter</td>\n",
       "      <td>Bethesda Softworks</td>\n",
       "    </tr>\n",
       "    <tr>\n",
       "      <th>102</th>\n",
       "      <td>Mafia City</td>\n",
       "      <td>Yotta Games</td>\n",
       "    </tr>\n",
       "    <tr>\n",
       "      <th>103</th>\n",
       "      <td>Madden NFL Overdrive</td>\n",
       "      <td>EA Sports (Electronic Arts)</td>\n",
       "    </tr>\n",
       "  </tbody>\n",
       "</table>\n",
       "<p>104 rows × 2 columns</p>\n",
       "</div>"
      ],
      "text/plain": [
       "                                Game                            Publisher\n",
       "0    Honor of Kings / Arena of Valor                        Tencent Games\n",
       "1                     Monster Strike                                 Mixi\n",
       "2                        PUBG Mobile  Tencent Games / Krafton / VNG Games\n",
       "3                   Puzzle & Dragons          GungHo Online Entertainment\n",
       "4                     Clash of Clans                  Supercell (Tencent)\n",
       "..                               ...                                  ...\n",
       "99              Yahtzee With Buddies                              Scopely\n",
       "100                Dragon Quest Tact                          Square Enix\n",
       "101                  Fallout Shelter                   Bethesda Softworks\n",
       "102                       Mafia City                          Yotta Games\n",
       "103             Madden NFL Overdrive          EA Sports (Electronic Arts)\n",
       "\n",
       "[104 rows x 2 columns]"
      ]
     },
     "execution_count": 21,
     "metadata": {},
     "output_type": "execute_result"
    }
   ],
   "source": [
    "df[['Game','Publisher']] # two columns"
   ]
  },
  {
   "cell_type": "code",
   "execution_count": 22,
   "metadata": {
    "execution": {
     "iopub.execute_input": "2023-05-21T16:13:49.006045Z",
     "iopub.status.busy": "2023-05-21T16:13:49.005585Z",
     "iopub.status.idle": "2023-05-21T16:13:49.019248Z",
     "shell.execute_reply": "2023-05-21T16:13:49.017597Z",
     "shell.execute_reply.started": "2023-05-21T16:13:49.006008Z"
    }
   },
   "outputs": [
    {
     "data": {
      "text/html": [
       "<div>\n",
       "<style scoped>\n",
       "    .dataframe tbody tr th:only-of-type {\n",
       "        vertical-align: middle;\n",
       "    }\n",
       "\n",
       "    .dataframe tbody tr th {\n",
       "        vertical-align: top;\n",
       "    }\n",
       "\n",
       "    .dataframe thead th {\n",
       "        text-align: right;\n",
       "    }\n",
       "</style>\n",
       "<table border=\"1\" class=\"dataframe\">\n",
       "  <thead>\n",
       "    <tr style=\"text-align: right;\">\n",
       "      <th></th>\n",
       "      <th>Game</th>\n",
       "    </tr>\n",
       "  </thead>\n",
       "  <tbody>\n",
       "    <tr>\n",
       "      <th>0</th>\n",
       "      <td>Honor of Kings / Arena of Valor</td>\n",
       "    </tr>\n",
       "    <tr>\n",
       "      <th>1</th>\n",
       "      <td>Monster Strike</td>\n",
       "    </tr>\n",
       "    <tr>\n",
       "      <th>2</th>\n",
       "      <td>PUBG Mobile</td>\n",
       "    </tr>\n",
       "    <tr>\n",
       "      <th>3</th>\n",
       "      <td>Puzzle &amp; Dragons</td>\n",
       "    </tr>\n",
       "    <tr>\n",
       "      <th>4</th>\n",
       "      <td>Clash of Clans</td>\n",
       "    </tr>\n",
       "  </tbody>\n",
       "</table>\n",
       "</div>"
      ],
      "text/plain": [
       "                              Game\n",
       "0  Honor of Kings / Arena of Valor\n",
       "1                   Monster Strike\n",
       "2                      PUBG Mobile\n",
       "3                 Puzzle & Dragons\n",
       "4                   Clash of Clans"
      ]
     },
     "execution_count": 22,
     "metadata": {},
     "output_type": "execute_result"
    }
   ],
   "source": [
    "df[['Game']][0:5] # we also pass the range "
   ]
  },
  {
   "cell_type": "code",
   "execution_count": 23,
   "metadata": {
    "execution": {
     "iopub.execute_input": "2023-05-21T16:13:49.022211Z",
     "iopub.status.busy": "2023-05-21T16:13:49.021817Z",
     "iopub.status.idle": "2023-05-21T16:13:49.036878Z",
     "shell.execute_reply": "2023-05-21T16:13:49.035521Z",
     "shell.execute_reply.started": "2023-05-21T16:13:49.022177Z"
    }
   },
   "outputs": [
    {
     "data": {
      "text/html": [
       "<div>\n",
       "<style scoped>\n",
       "    .dataframe tbody tr th:only-of-type {\n",
       "        vertical-align: middle;\n",
       "    }\n",
       "\n",
       "    .dataframe tbody tr th {\n",
       "        vertical-align: top;\n",
       "    }\n",
       "\n",
       "    .dataframe thead th {\n",
       "        text-align: right;\n",
       "    }\n",
       "</style>\n",
       "<table border=\"1\" class=\"dataframe\">\n",
       "  <thead>\n",
       "    <tr style=\"text-align: right;\">\n",
       "      <th></th>\n",
       "      <th>Revenue</th>\n",
       "    </tr>\n",
       "  </thead>\n",
       "  <tbody>\n",
       "    <tr>\n",
       "      <th>70</th>\n",
       "      <td>308700000</td>\n",
       "    </tr>\n",
       "    <tr>\n",
       "      <th>75</th>\n",
       "      <td>282000000</td>\n",
       "    </tr>\n",
       "    <tr>\n",
       "      <th>80</th>\n",
       "      <td>218000000</td>\n",
       "    </tr>\n",
       "    <tr>\n",
       "      <th>85</th>\n",
       "      <td>169000000</td>\n",
       "    </tr>\n",
       "    <tr>\n",
       "      <th>90</th>\n",
       "      <td>155000000</td>\n",
       "    </tr>\n",
       "    <tr>\n",
       "      <th>95</th>\n",
       "      <td>124050000</td>\n",
       "    </tr>\n",
       "    <tr>\n",
       "      <th>100</th>\n",
       "      <td>111990000</td>\n",
       "    </tr>\n",
       "  </tbody>\n",
       "</table>\n",
       "</div>"
      ],
      "text/plain": [
       "       Revenue\n",
       "70   308700000\n",
       "75   282000000\n",
       "80   218000000\n",
       "85   169000000\n",
       "90   155000000\n",
       "95   124050000\n",
       "100  111990000"
      ]
     },
     "execution_count": 23,
     "metadata": {},
     "output_type": "execute_result"
    }
   ],
   "source": [
    "df[['Revenue']][70:101:5] # List jump operator"
   ]
  },
  {
   "cell_type": "code",
   "execution_count": 24,
   "metadata": {
    "execution": {
     "iopub.execute_input": "2023-05-21T16:13:49.039446Z",
     "iopub.status.busy": "2023-05-21T16:13:49.039028Z",
     "iopub.status.idle": "2023-05-21T16:13:49.068027Z",
     "shell.execute_reply": "2023-05-21T16:13:49.066818Z",
     "shell.execute_reply.started": "2023-05-21T16:13:49.039396Z"
    }
   },
   "outputs": [
    {
     "data": {
      "text/html": [
       "<div>\n",
       "<style scoped>\n",
       "    .dataframe tbody tr th:only-of-type {\n",
       "        vertical-align: middle;\n",
       "    }\n",
       "\n",
       "    .dataframe tbody tr th {\n",
       "        vertical-align: top;\n",
       "    }\n",
       "\n",
       "    .dataframe thead th {\n",
       "        text-align: right;\n",
       "    }\n",
       "</style>\n",
       "<table border=\"1\" class=\"dataframe\">\n",
       "  <thead>\n",
       "    <tr style=\"text-align: right;\">\n",
       "      <th></th>\n",
       "      <th>count</th>\n",
       "      <th>mean</th>\n",
       "      <th>std</th>\n",
       "      <th>min</th>\n",
       "      <th>25%</th>\n",
       "      <th>50%</th>\n",
       "      <th>75%</th>\n",
       "      <th>max</th>\n",
       "    </tr>\n",
       "  </thead>\n",
       "  <tbody>\n",
       "    <tr>\n",
       "      <th>Revenue</th>\n",
       "      <td>104.0</td>\n",
       "      <td>1.617105e+09</td>\n",
       "      <td>2.454735e+09</td>\n",
       "      <td>100000000.0</td>\n",
       "      <td>240750000.0</td>\n",
       "      <td>742600000.0</td>\n",
       "      <td>1.525000e+09</td>\n",
       "      <td>1.466750e+10</td>\n",
       "    </tr>\n",
       "  </tbody>\n",
       "</table>\n",
       "</div>"
      ],
      "text/plain": [
       "         count          mean           std          min          25%  \\\n",
       "Revenue  104.0  1.617105e+09  2.454735e+09  100000000.0  240750000.0   \n",
       "\n",
       "                 50%           75%           max  \n",
       "Revenue  742600000.0  1.525000e+09  1.466750e+10  "
      ]
     },
     "execution_count": 24,
     "metadata": {},
     "output_type": "execute_result"
    }
   ],
   "source": [
    "df.describe().T # describe.T  function give only numerical analyst"
   ]
  },
  {
   "cell_type": "code",
   "execution_count": 25,
   "metadata": {
    "execution": {
     "iopub.execute_input": "2023-05-21T16:13:49.070719Z",
     "iopub.status.busy": "2023-05-21T16:13:49.069756Z",
     "iopub.status.idle": "2023-05-21T16:13:49.088533Z",
     "shell.execute_reply": "2023-05-21T16:13:49.087179Z",
     "shell.execute_reply.started": "2023-05-21T16:13:49.070679Z"
    }
   },
   "outputs": [
    {
     "data": {
      "text/html": [
       "<div>\n",
       "<style scoped>\n",
       "    .dataframe tbody tr th:only-of-type {\n",
       "        vertical-align: middle;\n",
       "    }\n",
       "\n",
       "    .dataframe tbody tr th {\n",
       "        vertical-align: top;\n",
       "    }\n",
       "\n",
       "    .dataframe thead th {\n",
       "        text-align: right;\n",
       "    }\n",
       "</style>\n",
       "<table border=\"1\" class=\"dataframe\">\n",
       "  <thead>\n",
       "    <tr style=\"text-align: right;\">\n",
       "      <th></th>\n",
       "      <th>Revenue</th>\n",
       "    </tr>\n",
       "  </thead>\n",
       "  <tbody>\n",
       "    <tr>\n",
       "      <th>count</th>\n",
       "      <td>1.040000e+02</td>\n",
       "    </tr>\n",
       "    <tr>\n",
       "      <th>mean</th>\n",
       "      <td>1.617105e+09</td>\n",
       "    </tr>\n",
       "    <tr>\n",
       "      <th>std</th>\n",
       "      <td>2.454735e+09</td>\n",
       "    </tr>\n",
       "    <tr>\n",
       "      <th>min</th>\n",
       "      <td>1.000000e+08</td>\n",
       "    </tr>\n",
       "    <tr>\n",
       "      <th>25%</th>\n",
       "      <td>2.407500e+08</td>\n",
       "    </tr>\n",
       "    <tr>\n",
       "      <th>50%</th>\n",
       "      <td>7.426000e+08</td>\n",
       "    </tr>\n",
       "    <tr>\n",
       "      <th>75%</th>\n",
       "      <td>1.525000e+09</td>\n",
       "    </tr>\n",
       "    <tr>\n",
       "      <th>max</th>\n",
       "      <td>1.466750e+10</td>\n",
       "    </tr>\n",
       "  </tbody>\n",
       "</table>\n",
       "</div>"
      ],
      "text/plain": [
       "            Revenue\n",
       "count  1.040000e+02\n",
       "mean   1.617105e+09\n",
       "std    2.454735e+09\n",
       "min    1.000000e+08\n",
       "25%    2.407500e+08\n",
       "50%    7.426000e+08\n",
       "75%    1.525000e+09\n",
       "max    1.466750e+10"
      ]
     },
     "execution_count": 25,
     "metadata": {},
     "output_type": "execute_result"
    }
   ],
   "source": [
    "df.describe()"
   ]
  },
  {
   "cell_type": "code",
   "execution_count": 26,
   "metadata": {
    "execution": {
     "iopub.execute_input": "2023-05-21T16:13:49.092718Z",
     "iopub.status.busy": "2023-05-21T16:13:49.092302Z",
     "iopub.status.idle": "2023-05-21T16:13:49.103695Z",
     "shell.execute_reply": "2023-05-21T16:13:49.102348Z",
     "shell.execute_reply.started": "2023-05-21T16:13:49.092674Z"
    }
   },
   "outputs": [
    {
     "data": {
      "text/plain": [
       "Game         Yu-Gi-Oh! Duel Links\n",
       "Revenue               14667500000\n",
       "Time                     9/9/2021\n",
       "Publisher                  miHoYo\n",
       "Genre(s)                  Yahtzee\n",
       "dtype: object"
      ]
     },
     "execution_count": 26,
     "metadata": {},
     "output_type": "execute_result"
    }
   ],
   "source": [
    "df.max()"
   ]
  },
  {
   "cell_type": "code",
   "execution_count": 27,
   "metadata": {
    "execution": {
     "iopub.execute_input": "2023-05-21T16:13:49.107358Z",
     "iopub.status.busy": "2023-05-21T16:13:49.106864Z",
     "iopub.status.idle": "2023-05-21T16:13:49.118361Z",
     "shell.execute_reply": "2023-05-21T16:13:49.117040Z",
     "shell.execute_reply.started": "2023-05-21T16:13:49.107309Z"
    }
   },
   "outputs": [
    {
     "data": {
      "text/plain": [
       "Game                    #COMPASS\n",
       "Revenue                100000000\n",
       "Time                   1/15/2016\n",
       "Publisher                37Games\n",
       "Genre(s)     ARPG / Hack & slash\n",
       "dtype: object"
      ]
     },
     "execution_count": 27,
     "metadata": {},
     "output_type": "execute_result"
    }
   ],
   "source": [
    "df.min()"
   ]
  },
  {
   "cell_type": "markdown",
   "metadata": {},
   "source": [
    "# lets analyst some data"
   ]
  },
  {
   "cell_type": "code",
   "execution_count": 28,
   "metadata": {
    "execution": {
     "iopub.execute_input": "2023-05-21T16:13:49.120782Z",
     "iopub.status.busy": "2023-05-21T16:13:49.120383Z",
     "iopub.status.idle": "2023-05-21T16:13:49.139793Z",
     "shell.execute_reply": "2023-05-21T16:13:49.138717Z",
     "shell.execute_reply.started": "2023-05-21T16:13:49.120747Z"
    }
   },
   "outputs": [
    {
     "data": {
      "text/html": [
       "<div>\n",
       "<style scoped>\n",
       "    .dataframe tbody tr th:only-of-type {\n",
       "        vertical-align: middle;\n",
       "    }\n",
       "\n",
       "    .dataframe tbody tr th {\n",
       "        vertical-align: top;\n",
       "    }\n",
       "\n",
       "    .dataframe thead th {\n",
       "        text-align: right;\n",
       "    }\n",
       "</style>\n",
       "<table border=\"1\" class=\"dataframe\">\n",
       "  <thead>\n",
       "    <tr style=\"text-align: right;\">\n",
       "      <th></th>\n",
       "      <th>Game</th>\n",
       "      <th>Revenue</th>\n",
       "      <th>Time</th>\n",
       "      <th>Publisher</th>\n",
       "      <th>Genre(s)</th>\n",
       "    </tr>\n",
       "  </thead>\n",
       "  <tbody>\n",
       "    <tr>\n",
       "      <th>2</th>\n",
       "      <td>PUBG Mobile</td>\n",
       "      <td>9000000000</td>\n",
       "      <td>3/19/2018</td>\n",
       "      <td>Tencent Games / Krafton / VNG Games</td>\n",
       "      <td>Battle royale</td>\n",
       "    </tr>\n",
       "  </tbody>\n",
       "</table>\n",
       "</div>"
      ],
      "text/plain": [
       "          Game     Revenue       Time                            Publisher  \\\n",
       "2  PUBG Mobile  9000000000  3/19/2018  Tencent Games / Krafton / VNG Games   \n",
       "\n",
       "        Genre(s)  \n",
       "2  Battle royale  "
      ]
     },
     "execution_count": 28,
     "metadata": {},
     "output_type": "execute_result"
    }
   ],
   "source": [
    "df[df['Game']=='PUBG Mobile']"
   ]
  },
  {
   "cell_type": "code",
   "execution_count": 29,
   "metadata": {
    "execution": {
     "iopub.execute_input": "2023-05-21T16:13:49.142835Z",
     "iopub.status.busy": "2023-05-21T16:13:49.141621Z",
     "iopub.status.idle": "2023-05-21T16:13:49.158036Z",
     "shell.execute_reply": "2023-05-21T16:13:49.156875Z",
     "shell.execute_reply.started": "2023-05-21T16:13:49.142779Z"
    }
   },
   "outputs": [
    {
     "data": {
      "text/html": [
       "<div>\n",
       "<style scoped>\n",
       "    .dataframe tbody tr th:only-of-type {\n",
       "        vertical-align: middle;\n",
       "    }\n",
       "\n",
       "    .dataframe tbody tr th {\n",
       "        vertical-align: top;\n",
       "    }\n",
       "\n",
       "    .dataframe thead th {\n",
       "        text-align: right;\n",
       "    }\n",
       "</style>\n",
       "<table border=\"1\" class=\"dataframe\">\n",
       "  <thead>\n",
       "    <tr style=\"text-align: right;\">\n",
       "      <th></th>\n",
       "      <th>Game</th>\n",
       "      <th>Revenue</th>\n",
       "      <th>Time</th>\n",
       "      <th>Publisher</th>\n",
       "      <th>Genre(s)</th>\n",
       "    </tr>\n",
       "  </thead>\n",
       "  <tbody>\n",
       "    <tr>\n",
       "      <th>0</th>\n",
       "      <td>Honor of Kings / Arena of Valor</td>\n",
       "      <td>14667500000</td>\n",
       "      <td>11/26/2015</td>\n",
       "      <td>Tencent Games</td>\n",
       "      <td>MOBA</td>\n",
       "    </tr>\n",
       "  </tbody>\n",
       "</table>\n",
       "</div>"
      ],
      "text/plain": [
       "                              Game      Revenue        Time      Publisher  \\\n",
       "0  Honor of Kings / Arena of Valor  14667500000  11/26/2015  Tencent Games   \n",
       "\n",
       "  Genre(s)  \n",
       "0     MOBA  "
      ]
     },
     "execution_count": 29,
     "metadata": {},
     "output_type": "execute_result"
    }
   ],
   "source": [
    "df[df['Publisher']=='Tencent Games']"
   ]
  },
  {
   "cell_type": "markdown",
   "metadata": {},
   "source": [
    "lets cheke the who have higest Revenue"
   ]
  },
  {
   "cell_type": "code",
   "execution_count": 30,
   "metadata": {
    "execution": {
     "iopub.execute_input": "2023-05-21T16:13:49.159692Z",
     "iopub.status.busy": "2023-05-21T16:13:49.159244Z",
     "iopub.status.idle": "2023-05-21T16:13:49.177871Z",
     "shell.execute_reply": "2023-05-21T16:13:49.176532Z",
     "shell.execute_reply.started": "2023-05-21T16:13:49.159654Z"
    }
   },
   "outputs": [
    {
     "data": {
      "text/html": [
       "<div>\n",
       "<style scoped>\n",
       "    .dataframe tbody tr th:only-of-type {\n",
       "        vertical-align: middle;\n",
       "    }\n",
       "\n",
       "    .dataframe tbody tr th {\n",
       "        vertical-align: top;\n",
       "    }\n",
       "\n",
       "    .dataframe thead th {\n",
       "        text-align: right;\n",
       "    }\n",
       "</style>\n",
       "<table border=\"1\" class=\"dataframe\">\n",
       "  <thead>\n",
       "    <tr style=\"text-align: right;\">\n",
       "      <th></th>\n",
       "      <th>Game</th>\n",
       "      <th>Revenue</th>\n",
       "      <th>Time</th>\n",
       "      <th>Publisher</th>\n",
       "      <th>Genre(s)</th>\n",
       "    </tr>\n",
       "  </thead>\n",
       "  <tbody>\n",
       "    <tr>\n",
       "      <th>0</th>\n",
       "      <td>Honor of Kings / Arena of Valor</td>\n",
       "      <td>14667500000</td>\n",
       "      <td>11/26/2015</td>\n",
       "      <td>Tencent Games</td>\n",
       "      <td>MOBA</td>\n",
       "    </tr>\n",
       "  </tbody>\n",
       "</table>\n",
       "</div>"
      ],
      "text/plain": [
       "                              Game      Revenue        Time      Publisher  \\\n",
       "0  Honor of Kings / Arena of Valor  14667500000  11/26/2015  Tencent Games   \n",
       "\n",
       "  Genre(s)  \n",
       "0     MOBA  "
      ]
     },
     "execution_count": 30,
     "metadata": {},
     "output_type": "execute_result"
    }
   ],
   "source": [
    "df[df['Revenue']==max(df['Revenue'])]"
   ]
  },
  {
   "cell_type": "code",
   "execution_count": 31,
   "metadata": {
    "execution": {
     "iopub.execute_input": "2023-05-21T16:13:49.180003Z",
     "iopub.status.busy": "2023-05-21T16:13:49.179335Z",
     "iopub.status.idle": "2023-05-21T16:13:49.202707Z",
     "shell.execute_reply": "2023-05-21T16:13:49.201748Z",
     "shell.execute_reply.started": "2023-05-21T16:13:49.179962Z"
    }
   },
   "outputs": [
    {
     "data": {
      "text/html": [
       "<div>\n",
       "<style scoped>\n",
       "    .dataframe tbody tr th:only-of-type {\n",
       "        vertical-align: middle;\n",
       "    }\n",
       "\n",
       "    .dataframe tbody tr th {\n",
       "        vertical-align: top;\n",
       "    }\n",
       "\n",
       "    .dataframe thead th {\n",
       "        text-align: right;\n",
       "    }\n",
       "</style>\n",
       "<table border=\"1\" class=\"dataframe\">\n",
       "  <thead>\n",
       "    <tr style=\"text-align: right;\">\n",
       "      <th></th>\n",
       "      <th>Game</th>\n",
       "      <th>Revenue</th>\n",
       "      <th>Time</th>\n",
       "      <th>Publisher</th>\n",
       "      <th>Genre(s)</th>\n",
       "    </tr>\n",
       "  </thead>\n",
       "  <tbody>\n",
       "    <tr>\n",
       "      <th>0</th>\n",
       "      <td>Honor of Kings / Arena of Valor</td>\n",
       "      <td>14667500000</td>\n",
       "      <td>11/26/2015</td>\n",
       "      <td>Tencent Games</td>\n",
       "      <td>MOBA</td>\n",
       "    </tr>\n",
       "    <tr>\n",
       "      <th>32</th>\n",
       "      <td>Brawl Stars</td>\n",
       "      <td>1400000000</td>\n",
       "      <td>12/12/2018</td>\n",
       "      <td>Supercell (Tencent)</td>\n",
       "      <td>MOBA</td>\n",
       "    </tr>\n",
       "    <tr>\n",
       "      <th>39</th>\n",
       "      <td>Mobile Legends: Bang Bang</td>\n",
       "      <td>1000000000</td>\n",
       "      <td>7/11/2016</td>\n",
       "      <td>Moonton (ByteDance)</td>\n",
       "      <td>MOBA</td>\n",
       "    </tr>\n",
       "    <tr>\n",
       "      <th>61</th>\n",
       "      <td>League of Legends: Wild Rift</td>\n",
       "      <td>505000000</td>\n",
       "      <td>10/27/2020</td>\n",
       "      <td>Riot Games (Tencent)</td>\n",
       "      <td>MOBA</td>\n",
       "    </tr>\n",
       "    <tr>\n",
       "      <th>76</th>\n",
       "      <td>#COMPASS</td>\n",
       "      <td>281000000</td>\n",
       "      <td>12/17/2016</td>\n",
       "      <td>NHN PlayArt / Dwango</td>\n",
       "      <td>MOBA</td>\n",
       "    </tr>\n",
       "  </tbody>\n",
       "</table>\n",
       "</div>"
      ],
      "text/plain": [
       "                               Game      Revenue        Time  \\\n",
       "0   Honor of Kings / Arena of Valor  14667500000  11/26/2015   \n",
       "32                      Brawl Stars   1400000000  12/12/2018   \n",
       "39        Mobile Legends: Bang Bang   1000000000   7/11/2016   \n",
       "61     League of Legends: Wild Rift    505000000  10/27/2020   \n",
       "76                         #COMPASS    281000000  12/17/2016   \n",
       "\n",
       "               Publisher Genre(s)  \n",
       "0          Tencent Games     MOBA  \n",
       "32   Supercell (Tencent)     MOBA  \n",
       "39   Moonton (ByteDance)     MOBA  \n",
       "61  Riot Games (Tencent)     MOBA  \n",
       "76  NHN PlayArt / Dwango     MOBA  "
      ]
     },
     "execution_count": 31,
     "metadata": {},
     "output_type": "execute_result"
    }
   ],
   "source": [
    "df[df['Genre(s)']=='MOBA'] # lest check which MOBA game "
   ]
  },
  {
   "cell_type": "code",
   "execution_count": 32,
   "metadata": {
    "execution": {
     "iopub.execute_input": "2023-05-21T16:13:49.204818Z",
     "iopub.status.busy": "2023-05-21T16:13:49.204209Z",
     "iopub.status.idle": "2023-05-21T16:13:49.220693Z",
     "shell.execute_reply": "2023-05-21T16:13:49.219507Z",
     "shell.execute_reply.started": "2023-05-21T16:13:49.204775Z"
    }
   },
   "outputs": [
    {
     "data": {
      "text/html": [
       "<div>\n",
       "<style scoped>\n",
       "    .dataframe tbody tr th:only-of-type {\n",
       "        vertical-align: middle;\n",
       "    }\n",
       "\n",
       "    .dataframe tbody tr th {\n",
       "        vertical-align: top;\n",
       "    }\n",
       "\n",
       "    .dataframe thead th {\n",
       "        text-align: right;\n",
       "    }\n",
       "</style>\n",
       "<table border=\"1\" class=\"dataframe\">\n",
       "  <thead>\n",
       "    <tr style=\"text-align: right;\">\n",
       "      <th></th>\n",
       "      <th>Game</th>\n",
       "      <th>Revenue</th>\n",
       "      <th>Time</th>\n",
       "      <th>Publisher</th>\n",
       "      <th>Genre(s)</th>\n",
       "    </tr>\n",
       "  </thead>\n",
       "  <tbody>\n",
       "    <tr>\n",
       "      <th>2</th>\n",
       "      <td>PUBG Mobile</td>\n",
       "      <td>9000000000</td>\n",
       "      <td>3/19/2018</td>\n",
       "      <td>Tencent Games / Krafton / VNG Games</td>\n",
       "      <td>Battle royale</td>\n",
       "    </tr>\n",
       "    <tr>\n",
       "      <th>9</th>\n",
       "      <td>Garena Free Fire</td>\n",
       "      <td>4330000000</td>\n",
       "      <td>12/4/2017</td>\n",
       "      <td>Garena</td>\n",
       "      <td>Battle royale</td>\n",
       "    </tr>\n",
       "    <tr>\n",
       "      <th>28</th>\n",
       "      <td>Knives Out</td>\n",
       "      <td>1485270000</td>\n",
       "      <td>11/23/2017</td>\n",
       "      <td>NetEase</td>\n",
       "      <td>Battle royale</td>\n",
       "    </tr>\n",
       "    <tr>\n",
       "      <th>34</th>\n",
       "      <td>Fortnite</td>\n",
       "      <td>1200000000</td>\n",
       "      <td>4/2/2018</td>\n",
       "      <td>Epic Games</td>\n",
       "      <td>Battle royale</td>\n",
       "    </tr>\n",
       "  </tbody>\n",
       "</table>\n",
       "</div>"
      ],
      "text/plain": [
       "                Game     Revenue        Time  \\\n",
       "2        PUBG Mobile  9000000000   3/19/2018   \n",
       "9   Garena Free Fire  4330000000   12/4/2017   \n",
       "28        Knives Out  1485270000  11/23/2017   \n",
       "34          Fortnite  1200000000    4/2/2018   \n",
       "\n",
       "                              Publisher       Genre(s)  \n",
       "2   Tencent Games / Krafton / VNG Games  Battle royale  \n",
       "9                                Garena  Battle royale  \n",
       "28                              NetEase  Battle royale  \n",
       "34                           Epic Games  Battle royale  "
      ]
     },
     "execution_count": 32,
     "metadata": {},
     "output_type": "execute_result"
    }
   ],
   "source": [
    "df[df['Genre(s)']=='Battle royale']"
   ]
  },
  {
   "cell_type": "markdown",
   "metadata": {},
   "source": [
    "# Top 10 Highest-Grossing Mobile Games"
   ]
  },
  {
   "cell_type": "code",
   "execution_count": 33,
   "metadata": {
    "execution": {
     "iopub.execute_input": "2023-05-21T16:13:49.222317Z",
     "iopub.status.busy": "2023-05-21T16:13:49.221970Z",
     "iopub.status.idle": "2023-05-21T16:13:49.548755Z",
     "shell.execute_reply": "2023-05-21T16:13:49.547216Z",
     "shell.execute_reply.started": "2023-05-21T16:13:49.222285Z"
    }
   },
   "outputs": [
    {
     "data": {
      "image/png": "[encoded data removed]",
      "text/plain": [
       "<Figure size 720x576 with 1 Axes>"
      ]
     },
     "metadata": {
      "needs_background": "light"
     },
     "output_type": "display_data"
    }
   ],
   "source": [
    "top_10_games = df.nlargest(10, 'Revenue')\n",
    "plt.figure(figsize=(10, 8))\n",
    "sns.barplot(x='Revenue', y='Game', data=top_10_games)\n",
    "plt.title('Top 10 Highest-Grossing Mobile Games')\n",
    "plt.xlabel('Total Share')\n",
    "plt.ylabel('Game')\n",
    "plt.show()\n"
   ]
  },
  {
   "cell_type": "code",
   "execution_count": 34,
   "metadata": {
    "execution": {
     "iopub.execute_input": "2023-05-21T16:13:49.550767Z",
     "iopub.status.busy": "2023-05-21T16:13:49.550335Z",
     "iopub.status.idle": "2023-05-21T16:13:49.564763Z",
     "shell.execute_reply": "2023-05-21T16:13:49.563331Z",
     "shell.execute_reply.started": "2023-05-21T16:13:49.550731Z"
    }
   },
   "outputs": [
    {
     "name": "stdout",
     "output_type": "stream",
     "text": [
      "                              Game      Revenue\n",
      "0  Honor of Kings / Arena of Valor  14667500000\n",
      "1                   Monster Strike  10000000000\n",
      "2                      PUBG Mobile   9000000000\n",
      "3                 Puzzle & Dragons   8578340000\n",
      "4                   Clash of Clans   8000000000\n"
     ]
    }
   ],
   "source": [
    "top_5_games = df.nlargest(5, 'Revenue')\n",
    "print(top_5_games[['Game', 'Revenue']])"
   ]
  },
  {
   "cell_type": "code",
   "execution_count": 35,
   "metadata": {
    "execution": {
     "iopub.execute_input": "2023-05-21T16:13:49.568672Z",
     "iopub.status.busy": "2023-05-21T16:13:49.568268Z",
     "iopub.status.idle": "2023-05-21T16:13:49.825859Z",
     "shell.execute_reply": "2023-05-21T16:13:49.824831Z",
     "shell.execute_reply.started": "2023-05-21T16:13:49.568635Z"
    }
   },
   "outputs": [
    {
     "data": {
      "image/png": "[encoded data removed]",
      "text/plain": [
       "<Figure size 720x432 with 1 Axes>"
      ]
     },
     "metadata": {
      "needs_background": "light"
     },
     "output_type": "display_data"
    }
   ],
   "source": [
    "top_5_games = df.nlargest(5, 'Revenue')\n",
    "\n",
    "plt.figure(figsize=(10, 6))\n",
    "sns.barplot(x='Revenue', y='Game', data=top_5_games, palette=None)\n",
    "plt.title('Top 5 Games with Highest Revenue')\n",
    "plt.xlabel('Revenue')\n",
    "plt.ylabel('Game')\n",
    "plt.show()"
   ]
  },
  {
   "cell_type": "markdown",
   "metadata": {},
   "source": [
    "# Thank you"
   ]
  },
  {
   "cell_type": "code",
   "execution_count": null,
   "metadata": {},
   "outputs": [],
   "source": []
  }
 ],
 "metadata": {
  "kernelspec": {
   "display_name": "Python 3 (ipykernel)",
   "language": "python",
   "name": "python3"
  },
  "language_info": {
   "codemirror_mode": {
    "name": "ipython",
    "version": 3
   },
   "file_extension": ".py",
   "mimetype": "text/x-python",
   "name": "python",
   "nbconvert_exporter": "python",
   "pygments_lexer": "ipython3",
   "version": "3.9.12"
  }
 },
 "nbformat": 4,
 "nbformat_minor": 4
}
